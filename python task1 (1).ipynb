{
 "cells": [
  {
   "cell_type": "markdown",
   "id": "c0d561c7-349c-43cb-9a15-59c5db61e5ec",
   "metadata": {},
   "source": [
    "Q1. Create a function which will take a list as an argument and return the product of all the numbers\n",
    "after creating a flat list.\n",
    "Use the below-given list as an argument for your function."
   ]
  },
  {
   "cell_type": "code",
   "execution_count": 5,
   "id": "46d5fe58-ffad-464d-a89a-d3661a5b394c",
   "metadata": {},
   "outputs": [],
   "source": [
    "def get_flat_list(*arg):\n",
    "    flat_list = []\n",
    "    for items in list1:\n",
    "        if type(items) == int:\n",
    "            flat_list.append(items)\n",
    "        elif type(items) == list:\n",
    "            for sub_item in items:\n",
    "                if type(sub_item) == int:\n",
    "                    flat_list.append(sub_item)\n",
    "        elif type(items) == str:\n",
    "            pass\n",
    "        elif type(items) == tuple:\n",
    "            for sub_item in items:\n",
    "                if type(sub_item) == int:\n",
    "                    flat_list.append(sub_item)\n",
    "        elif type(items) == set:\n",
    "            for sub_item in items:\n",
    "                if type(sub_item) == int:\n",
    "                    flat_list.append(sub_item)\n",
    "        elif type(items) == dict:\n",
    "            for sub_item in items:\n",
    "                if type(sub_item) == int:\n",
    "                    flat_list.append(sub_item)\n",
    "                if type(items[sub_item]) == int:\n",
    "                    flat_list.append(items[sub_item])\n",
    "                if type(sub_item) == str:\n",
    "                    pass\n",
    "                if type(items[sub_item]) == list or type(items[sub_item]) == tuple:\n",
    "                    for i in items[sub_item]:\n",
    "                        flat_list.append(i)\n",
    "        elif type(items) == list:\n",
    "            for sub_item in items:\n",
    "                if type(sub_item) == int:\n",
    "                    flat_list.append(sub_item)\n",
    "        else:\n",
    "            pass\n",
    "    print(flat_list)\n",
    "    value = 1\n",
    "    for i in flat_list:\n",
    "        value = value * i\n",
    "    return value"
   ]
  },
  {
   "cell_type": "code",
   "execution_count": 6,
   "id": "5e11ca03-baa7-4877-a224-944f5debd170",
   "metadata": {},
   "outputs": [],
   "source": [
    "list1 = [1,2,3,4, [44,55,66, True], False, (34,56,78,89,34), {1,2,3,3,2,1}, {1:34, \"key2\": [55, 67, 78, 89], 4: (45,\n",
    "22, 61, 34)}, [56, 'data science'], 'Machine Learning']"
   ]
  },
  {
   "cell_type": "code",
   "execution_count": 7,
   "id": "526de81c-2f8e-4129-ab42-29cdf997ffc3",
   "metadata": {},
   "outputs": [
    {
     "name": "stdout",
     "output_type": "stream",
     "text": [
      "[1, 2, 3, 4, 44, 55, 66, 34, 56, 78, 89, 34, 1, 2, 3, 1, 34, 55, 67, 78, 89, 4, 45, 22, 61, 34, 56]\n"
     ]
    },
    {
     "data": {
      "text/plain": [
       "4134711838987085478833841242112000"
      ]
     },
     "execution_count": 7,
     "metadata": {},
     "output_type": "execute_result"
    }
   ],
   "source": [
    "get_flat_list(list1)"
   ]
  },
  {
   "cell_type": "markdown",
   "id": "55b57cb7-c3a0-491a-ba6f-0928af17aac7",
   "metadata": {},
   "source": [
    "Q2. Write a python program for encrypting a message sent to you by your friend. The logic of encryption\n",
    "should be such that, for a the output should be z. For b, the output should be y. For c, the output should\n",
    "be x respectively. Also, the whitespace should be replaced with a dollar sign. Keep the punctuation\n",
    "marks unchanged.\n",
    "Input Sentence: I want to become a Data Scientist.\n",
    "Encrypt the above input sentence using the program you just created.\n",
    "Note: Convert the given input sentence into lowercase before encrypting. The final output should be\n",
    "lowercase."
   ]
  },
  {
   "cell_type": "code",
   "execution_count": 3,
   "id": "076625af-fee3-4e8d-b05f-03a616a3f624",
   "metadata": {},
   "outputs": [
    {
     "name": "stdout",
     "output_type": "stream",
     "text": [
      "r$dzmg$gl$yvxlnv$z$wzgz$hxrvmgrhg.\n"
     ]
    }
   ],
   "source": [
    "def encrypt_message(message):\n",
    "    encryption_dict = {'a': 'z','b': 'y','c': 'x','d': 'w','e': 'v','f': 'u','g': 't','h': 's','i': 'r','j': 'q','k': 'p','l': 'o','m': 'n','n': 'm','o': 'l','p': 'k','q': 'j','r': 'i','s': 'h','t': 'g', 'u': 'f','v': 'e','w': 'd','x': 'c','y': 'b','z': 'a'}\n",
    "\n",
    "    encrypted = ''\n",
    "    for char in message.lower():\n",
    "        if char == ' ':\n",
    "            encrypted += '$'\n",
    "        elif char in encryption_dict:\n",
    "            encrypted += encryption_dict[char]\n",
    "        else:\n",
    "            encrypted += char\n",
    "\n",
    "    return encrypted.lower()\n",
    "\n",
    "input_sentence = 'I want to become a Data Scientist.'\n",
    "encrypted_sentence = encrypt_message(input_sentence)\n",
    "print(encrypted_sentence)\n"
   ]
  }
 ],
 "metadata": {
  "kernelspec": {
   "display_name": "Python 3 (ipykernel)",
   "language": "python",
   "name": "python3"
  },
  "language_info": {
   "codemirror_mode": {
    "name": "ipython",
    "version": 3
   },
   "file_extension": ".py",
   "mimetype": "text/x-python",
   "name": "python",
   "nbconvert_exporter": "python",
   "pygments_lexer": "ipython3",
   "version": "3.10.8"
  }
 },
 "nbformat": 4,
 "nbformat_minor": 5
}
